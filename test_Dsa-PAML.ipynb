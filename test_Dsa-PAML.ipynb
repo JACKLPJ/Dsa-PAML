{
 "cells": [
  {
   "cell_type": "code",
   "execution_count": 1,
   "id": "8b144e8a",
   "metadata": {},
   "outputs": [],
   "source": [
    "import torch \n",
    "from DualAutoEncoder4_norm import DualAutoEncoder\n",
    "from sklearn.model_selection import train_test_split\n",
    "from sklearn.metrics import accuracy_score\n",
    "import pandas as pd\n",
    "import AutoML_fea_recd as aml\n",
    "import time \n",
    "import sklearn"
   ]
  },
  {
   "cell_type": "code",
   "execution_count": 3,
   "id": "436b7c41",
   "metadata": {},
   "outputs": [
    {
     "name": "stderr",
     "output_type": "stream",
     "text": [
      "/home/sia1/刘朋杰/dualAE_Automl/DsaPAML/MetaFeaturesCalculation_copy.py:678: RuntimeWarning: Mean of empty slice\n",
      "  mean = np.nanmean(values)\n",
      "/home/sia1/anaconda3/envs/jieg/lib/python3.8/site-packages/numpy/lib/nanfunctions.py:1670: RuntimeWarning: Degrees of freedom <= 0 for slice.\n",
      "  var = nanvar(a, axis=axis, dtype=dtype, out=out, ddof=ddof,\n",
      "/home/sia1/刘朋杰/dualAE_Automl/DsaPAML/AutoML_fea_recd.py:219: VisibleDeprecationWarning: Creating an ndarray from ragged nested sequences (which is a list-or-tuple of lists-or-tuples-or ndarrays with different lengths or shapes) is deprecated. If you meant to do this, you must specify 'dtype=object' when creating the ndarray.\n",
      "  all_results = np.array([\n",
      "/home/sia1/刘朋杰/dualAE_Automl/DsaPAML/AutoML_fea_recd.py:277: VisibleDeprecationWarning: Creating an ndarray from ragged nested sequences (which is a list-or-tuple of lists-or-tuples-or ndarrays with different lengths or shapes) is deprecated. If you meant to do this, you must specify 'dtype=object' when creating the ndarray.\n",
      "  res_ = np.array(res_)[c]\n",
      "/home/sia1/刘朋杰/dualAE_Automl/DsaPAML/mlxtend/classifier/stacking_classification.py:163: UserWarning: fit_base_estimators=False enforces use_clones to be `False`\n",
      "  warnings.warn(\"fit_base_estimators=False \"\n"
     ]
    },
    {
     "name": "stdout",
     "output_type": "stream",
     "text": [
      "Runtime:  34.77397622299031\n",
      "Accuracy score:  0.9056047197640118\n"
     ]
    }
   ],
   "source": [
    "# 设置软件参数\n",
    "clf = aml.Automl(N=100, # 为测试数据集推荐的模型个数(默认：200，建议N>=50)\n",
    "                 verbose=False, # 是否显示软件运行的中间结果 (可选：True,False；默认：False)\n",
    "                 time_per_model=360, # 训练单个模型管道的时间上限（默认：360（秒））              \n",
    "                 N_jobs=-1, # 并行运行的CPU核数 (默认：-1（表示使用机器所有CPU核）)\n",
    "                 system='linux'# 系统型号（可选：'linux','windows','mac'；默认：'linux'）\n",
    "                )\n",
    "# 读取待测数据集并分裂训练集和测试集\n",
    "publishing_data = pd.read_csv(\n",
    "    '/media/sia1/Elements SE/AutoML测试数据集/DataSets/publishing_data.csv',\n",
    "    sep=',',\n",
    "    header=None)\n",
    "X, y = publishing_data.iloc[:, :9], publishing_data.iloc[:, 9]\n",
    "X_train, X_test, y_train, y_test = train_test_split(X, y, random_state=42)\n",
    "# 模型的训练和预测\n",
    "t0 = time.perf_counter() # 记录训练和测试全过程的时间\n",
    "clf.fit(X_train, y_train) # 模型的训练\n",
    "y_hat = clf.predict(X_test) # 模型的预测\n",
    "print(\"Runtime: \", time.perf_counter() - t0) # 打印时间开销\n",
    "print(\"Accuracy score: \", accuracy_score(y_test, y_hat)) # 打印测试集上的准确率"
   ]
  },
  {
   "cell_type": "code",
   "execution_count": null,
   "id": "6bf2b7d0",
   "metadata": {},
   "outputs": [],
   "source": []
  }
 ],
 "metadata": {
  "kernelspec": {
   "display_name": "Python 3",
   "language": "python",
   "name": "python3"
  },
  "language_info": {
   "codemirror_mode": {
    "name": "ipython",
    "version": 3
   },
   "file_extension": ".py",
   "mimetype": "text/x-python",
   "name": "python",
   "nbconvert_exporter": "python",
   "pygments_lexer": "ipython3",
   "version": "3.8.8"
  },
  "varInspector": {
   "cols": {
    "lenName": 16,
    "lenType": 16,
    "lenVar": 40
   },
   "kernels_config": {
    "python": {
     "delete_cmd_postfix": "",
     "delete_cmd_prefix": "del ",
     "library": "var_list.py",
     "varRefreshCmd": "print(var_dic_list())"
    },
    "r": {
     "delete_cmd_postfix": ") ",
     "delete_cmd_prefix": "rm(",
     "library": "var_list.r",
     "varRefreshCmd": "cat(var_dic_list()) "
    }
   },
   "types_to_exclude": [
    "module",
    "function",
    "builtin_function_or_method",
    "instance",
    "_Feature"
   ],
   "window_display": false
  }
 },
 "nbformat": 4,
 "nbformat_minor": 5
}
